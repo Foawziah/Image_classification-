{
 "cells": [
  {
   "cell_type": "code",
   "execution_count": 1,
   "id": "b7032d01",
   "metadata": {},
   "outputs": [],
   "source": [
    "import os\n",
    "from keras_preprocessing.image import load_img, img_to_array\n",
    "from tensorflow.keras import backend as K\n",
    "import tensorflow.keras as tk\n",
    "from sklearn.model_selection import train_test_split\n",
    "from tensorflow.keras.datasets import mnist, fashion_mnist,cifar10\n",
    "from tensorflow.keras.models import Sequential, Model\n",
    "from tensorflow.keras.layers import Conv2D, Dense, MaxPooling2D, Flatten, BatchNormalization,Dropout\n",
    "from tensorflow.keras.utils import to_categorical\n",
    "from tensorflow.keras.callbacks import EarlyStopping\n",
    "from tensorflow.keras.models import Sequential\n",
    "from tensorflow.keras.utils import to_categorical\n",
    "from matplotlib import pyplot as plt\n",
    "import pandas as pd\n",
    "import numpy as np"
   ]
  },
  {
   "cell_type": "code",
   "execution_count": null,
   "id": "b0ca46e2",
   "metadata": {},
   "outputs": [],
   "source": [
    "ls data/"
   ]
  },
  {
   "cell_type": "code",
   "execution_count": null,
   "id": "ccba5674",
   "metadata": {
    "scrolled": true
   },
   "outputs": [],
   "source": [
    "X = []\n",
    "y = []\n",
    "classes = ['Blue_mug', 'mobile', 'Red_mug', 'Rose', 'empty', 'apple', 'biketool_mm', 'bodycream_test_ss', 'bodycream_train_ss', 'Bottle_gk',\n",
    "          'bottle_mw_test', 'bottle_mw_train', 'bottle_rbk','bottle_test_ss', 'bottle_train_ss', 'chris_bottle', 'chris_empty', 'crista_bottle',\n",
    "          'empty_crista', 'helge_scarf', 'helge_empty', 'plant_rbk', 'moritz_bottle','lighter_mm','him_teacup', 'helge_mouse',\n",
    "          'headphone_rbk','empty_train_ss', 'empty_train_ss', 'empty_crista', 'Naz_bottle']\n",
    "\n",
    "base_path = '.\\\\data\\\\'\n",
    "\n",
    "for i, target in enumerate(classes):\n",
    "    files = os.listdir(base_path+target)\n",
    "    for file in files:\n",
    "        # check if the file is a valid image file\n",
    "        if file.endswith('.jpg') or file.endswith('.jpeg') or file.endswith('.png'):\n",
    "            full_path=  base_path+target+ f'\\\\{file}'\n",
    "            print(full_path)\n",
    "            img =  load_img(full_path, target_size=(224, 224))\n",
    "            # append the array to X\n",
    "            img_array = img_to_array(img)\n",
    "            X.append(img_array)\n",
    "            y.append(i)\n",
    "\n",
    "X = np.array(X)\n",
    "y = np.array(y)\n",
    "\n",
    "# shuffle the data\n",
    "shuffler = np.random.permutation(len(X))\n",
    "X = X[shuffler]\n",
    "y = y[shuffler]\n"
   ]
  },
  {
   "cell_type": "code",
   "execution_count": null,
   "id": "1f9ad34f",
   "metadata": {},
   "outputs": [],
   "source": [
    "# Split the data into training and testing sets\n",
    "split_index = int(0.8 * len(X))\n",
    "X_train, X_test = X[:split_index], X[split_index:]\n",
    "y_train, y_test = y[:split_index], y[split_index:]\n",
    "\n",
    "# Convert labels to one-hot encoding\n",
    "num_classes = len(classes)\n",
    "y_train_one_hot = to_categorical(y_train, num_classes=num_classes)\n",
    "y_test_one_hot = to_categorical(y_test, num_classes=num_classes)\n",
    "\n",
    "# Define the model architecture\n",
    "model = Sequential()\n",
    "model.add(Conv2D(32, (3, 3), activation='relu', input_shape=(28, 28, 3)))\n",
    "model.add(MaxPooling2D((2, 2)))\n",
    "model.add(Conv2D(64, (3, 3), activation='relu'))\n",
    "model.add(MaxPooling2D((2, 2)))\n",
    "model.add(Conv2D(64, (3, 3), activation='relu'))\n",
    "model.add(Flatten())\n",
    "model.add(Dense(64, activation='relu'))\n",
    "model.add(Dense(num_classes, activation='softmax'))\n",
    "\n",
    "# Compile the model\n",
    "model.compile(optimizer='adam',\n",
    "              loss='categorical_crossentropy',\n",
    "              metrics=['accuracy'])\n",
    "\n",
    "# Train the model\n",
    "history = model.fit(X_train, y_train_one_hot, epochs=10, validation_split=0.2)\n",
    "\n",
    "# Evaluate the model\n",
    "test_loss, test_acc = model.evaluate(X_test, y_test_one_hot)\n",
    "print('Test accuracy:', test_acc)\n"
   ]
  },
  {
   "cell_type": "code",
   "execution_count": null,
   "id": "59ece474",
   "metadata": {},
   "outputs": [],
   "source": [
    "X_train.shape, X_test.shape, y_train.shape, y_test.shape"
   ]
  },
  {
   "cell_type": "code",
   "execution_count": null,
   "id": "0d0b29d7",
   "metadata": {},
   "outputs": [],
   "source": [
    "history.history"
   ]
  },
  {
   "cell_type": "code",
   "execution_count": null,
   "id": "5110c7c1",
   "metadata": {},
   "outputs": [],
   "source": [
    "# Plot loss and accuracy curves\n",
    "pd.DataFrame(data=history.history).plot()\n",
    "plt.grid(True)\n",
    "plt.xlabel('epochs')"
   ]
  },
  {
   "cell_type": "markdown",
   "id": "2d6721f8",
   "metadata": {},
   "source": [
    "# To feed the images in a CNN we need to reshape our X data to the format \n",
    "# (batch/sample, width, heigth, channels):\n",
    "\n"
   ]
  },
  {
   "cell_type": "code",
   "execution_count": null,
   "id": "db51cb1c",
   "metadata": {},
   "outputs": [],
   "source": [
    "#Xtrain = X_train.reshape(1552, 28, 28,3)\n",
    "#Xtest = X_test.reshape(389, 28, 28,3)"
   ]
  },
  {
   "cell_type": "code",
   "execution_count": null,
   "id": "233d9bec",
   "metadata": {},
   "outputs": [],
   "source": []
  },
  {
   "cell_type": "code",
   "execution_count": null,
   "id": "75ec1449",
   "metadata": {},
   "outputs": [],
   "source": [
    "plt.imshow(X_train[0].astype('uint8'))"
   ]
  },
  {
   "cell_type": "code",
   "execution_count": null,
   "id": "1cec2d7d",
   "metadata": {},
   "outputs": [],
   "source": [
    "# plot the train images  with the labels\n",
    "plt.figure(figsize=(16,16))\n",
    "for i in range(25):\n",
    "    plt.subplot(5, 5, i+1,title=f'Number: {y_train[i]}')\n",
    "    plt.imshow(Xtrain[i].astype('uint8'),cmap='gray')\n",
    "    plt.axis('off')"
   ]
  },
  {
   "cell_type": "code",
   "execution_count": null,
   "id": "daa9d7a3",
   "metadata": {},
   "outputs": [],
   "source": [
    "# The labels are 10 numbers (0...9) we transform it into 10 classes \n",
    "# ytrain, ytest from number to categorical/dummies\n",
    "\n",
    "ytrain_cat = to_categorical(y_train)\n",
    "ytest_cat = to_categorical(y_train)\n",
    "# Train the model"
   ]
  },
  {
   "cell_type": "code",
   "execution_count": null,
   "id": "e0fbb7e6",
   "metadata": {},
   "outputs": [],
   "source": [
    "ytrain_cat.shape"
   ]
  },
  {
   "cell_type": "code",
   "execution_count": null,
   "id": "6c7d4651",
   "metadata": {},
   "outputs": [],
   "source": [
    "ytrain_cat"
   ]
  },
  {
   "cell_type": "code",
   "execution_count": null,
   "id": "b1940bf0",
   "metadata": {},
   "outputs": [],
   "source": [
    "# from categorical to number\n",
    "np.argmax(ytrain_cat,axis=1),np.argmax(ytest_cat,axis=1)"
   ]
  },
  {
   "cell_type": "code",
   "execution_count": null,
   "id": "40c66fee",
   "metadata": {},
   "outputs": [],
   "source": [
    "print('After preprocessing also y:\\n')\n",
    "print('Xtrain shape:', Xtrain.shape)\n",
    "print(Xtrain.shape[0], 'train samples')\n",
    "print(Xtest.shape[0], 'test samples')\n",
    "print(Xtrain[0].shape, 'image shape')\n",
    "print('ytrain cat shape:', ytrain_cat.shape)"
   ]
  },
  {
   "cell_type": "markdown",
   "id": "a7dfbfdd",
   "metadata": {},
   "source": [
    "## LeNet-5 in Keras\n",
    "\n",
    "Implement LeNet-5 architecture from above.\n",
    "\n",
    "Use relu activation function for convolutional and fully-connected (dense) layers, and softmax for the output layer."
   ]
  },
  {
   "cell_type": "code",
   "execution_count": null,
   "id": "9a4509b8",
   "metadata": {
    "scrolled": true
   },
   "outputs": [],
   "source": [
    "import keras.backend as K\n",
    "import tensorflow as tf\n",
    "from keras.models import Sequential\n",
    "from keras.layers import Conv2D, MaxPooling2D, Flatten, Dense\n",
    "from keras.utils import to_categorical\n",
    "\n",
    "K.clear_session()\n",
    "\n",
    "# Load dataset\n",
    "# Assuming Xtrain and ytrain are already loaded\n",
    "\n",
    "# Convert ytrain to one-hot encoded format\n",
    "ytrain_cat = to_categorical(y_train)\n",
    "\n",
    "# Define model architecture\n",
    "model =  tf.keras.Sequential([\n",
    "    # Convolutional layers\n",
    "    Conv2D(filters=6, kernel_size=(5,5), strides=(1,1), padding='valid',\n",
    "           activation='relu', input_shape=(28,28,3),\n",
    "           kernel_initializer='glorot_normal', bias_initializer='zeros'),\n",
    "    MaxPooling2D(pool_size=(2,2), strides=(2,2), padding='valid'),\n",
    "    Conv2D(filters=16, kernel_size=(3,3), strides=(1,1), padding='valid',\n",
    "           activation='relu', kernel_initializer='glorot_normal', bias_initializer='zeros'),\n",
    "    MaxPooling2D(pool_size=(2,2), strides=(2,2), padding='valid'),\n",
    "    # Fully connected layers\n",
    "    Flatten(),\n",
    "    Dense(units=120, activation='relu', kernel_initializer='glorot_normal', bias_initializer='zeros'),\n",
    "    Dense(units=84, activation='relu', kernel_initializer='glorot_normal', bias_initializer='zeros'),\n",
    "    Dense(units=10, activation='softmax')\n",
    "])\n",
    "\n",
    "# Print model summary\n",
    "model.summary()\n",
    "\n",
    "# Compile the model\n"
   ]
  },
  {
   "cell_type": "code",
   "execution_count": null,
   "id": "a6a8f74f",
   "metadata": {},
   "outputs": [],
   "source": [
    "\n",
    "\n",
    "# Split the data into training and testing sets\n",
    "split_index = int(0.8 * len(X))\n",
    "X_train, X_test = X[:split_index], X[split_index:]\n",
    "y_train, y_test = y[:split_index], y[split_index:]\n",
    "\n",
    "# Convert labels to one-hot encoding\n",
    "num_classes = len(classes)\n",
    "y_train_one_hot = to_categorical(y_train, num_classes=num_classes)\n",
    "y_test_one_hot = to_categorical(y_test, num_classes=num_classes)\n",
    "\n",
    "# Define the model architecture\n",
    "model = Sequential()\n",
    "model.add(Conv2D(32, (3, 3), activation='relu', input_shape=(28, 28, 3)))\n",
    "model.add(MaxPooling2D((2, 2), strides=(2,2), padding = \"valid\"))\n",
    "model.add(Conv2D(64, (3, 3), activation='relu'))\n",
    "model.add(MaxPooling2D((2, 2), strides=(2,2), padding = \"valid\"))\n",
    "model.add(Conv2D(64, (3, 3), activation='relu'))\n",
    "model.add(Flatten())\n",
    "model.add(Dense(64, activation='relu'))\n",
    "model.add(Dense(num_classes, activation='softmax'))\n",
    "\n",
    "# Compile the model\n",
    "model.compile(optimizer='adam',\n",
    "              loss='categorical_crossentropy',\n",
    "              metrics=['accuracy'])\n",
    "\n",
    "# Train the model\n",
    "history = model.fit(X_train, y_train_one_hot, epochs=10, validation_split=0.2)\n",
    "\n",
    "# Evaluate the model\n",
    "test_loss, test_acc = model.evaluate(X_test, y_test_one_hot)\n",
    "print('Test accuracy:', test_acc)\n"
   ]
  },
  {
   "cell_type": "code",
   "execution_count": null,
   "id": "76aed811",
   "metadata": {
    "scrolled": true
   },
   "outputs": [],
   "source": [
    "print('Test accuracy:', test_acc)\n",
    "print('Test loss', test_loss)"
   ]
  },
  {
   "cell_type": "code",
   "execution_count": null,
   "id": "0dda6145",
   "metadata": {},
   "outputs": [],
   "source": [
    "print(Xtrain.shape)\n",
    "print(model.input_shape)"
   ]
  },
  {
   "cell_type": "markdown",
   "id": "1276c7ca",
   "metadata": {},
   "source": [
    "## Examine the model"
   ]
  },
  {
   "cell_type": "code",
   "execution_count": null,
   "id": "dd82244d",
   "metadata": {},
   "outputs": [],
   "source": [
    "history.history"
   ]
  },
  {
   "cell_type": "code",
   "execution_count": null,
   "id": "551618db",
   "metadata": {},
   "outputs": [],
   "source": [
    "# Plot loss and accuracy curves\n",
    "pd.DataFrame(data=history.history).plot()\n",
    "plt.grid(True)\n",
    "plt.xlabel('epochs')"
   ]
  },
  {
   "cell_type": "code",
   "execution_count": null,
   "id": "24ac1f94",
   "metadata": {},
   "outputs": [],
   "source": [
    "from IPython.display import Image\n",
    "from tensorflow.keras.utils import plot_model\n",
    "\n",
    "# Visualize the layers of the model in 2D\n",
    "plot_model(model, to_file='model_plot.png', show_shapes=True, show_layer_names=True, expand_nested=True, rankdir='TB', dpi=96)\n",
    "\n",
    "# Display the plot in Jupyter Notebook\n",
    "Image(filename='model_plot.png')"
   ]
  },
  {
   "cell_type": "code",
   "execution_count": null,
   "id": "6822fd16",
   "metadata": {
    "scrolled": true
   },
   "outputs": [],
   "source": [
    "## Train the model with Tensorboard\n",
    "from keras.callbacks import TensorBoard\n",
    "tensorboard = TensorBoard(log_dir='./logs', histogram_freq=1, write_graph=True, write_images=True)\n",
    "history = model.fit(Xtrain, ytrain_cat, batch_size=28, epochs=10, validation_split=0.2, callbacks=[tensorboard])"
   ]
  },
  {
   "cell_type": "code",
   "execution_count": null,
   "id": "bc7a8772",
   "metadata": {},
   "outputs": [],
   "source": [
    "!kill 6006 "
   ]
  },
  {
   "cell_type": "code",
   "execution_count": null,
   "id": "e65d423b",
   "metadata": {},
   "outputs": [],
   "source": [
    "# Load the TensorBoard notebook extension\n",
    "%load_ext tensorboard\n",
    "\n",
    "# Start TensorBoard\n",
    "%tensorboard --logdir logs\n",
    "#%reload_ext tensorboard"
   ]
  },
  {
   "cell_type": "code",
   "execution_count": null,
   "id": "6ea46cd4",
   "metadata": {},
   "outputs": [],
   "source": [
    "\n",
    "# Visualize the model architecture\n",
    "plot_model(model, show_shapes=True, show_layer_names=True)\n"
   ]
  },
  {
   "cell_type": "code",
   "execution_count": null,
   "id": "c4f94652",
   "metadata": {},
   "outputs": [],
   "source": []
  },
  {
   "cell_type": "markdown",
   "id": "c98fec5b",
   "metadata": {},
   "source": [
    " ## Pre-trained Networks\n",
    " Resnet50\n",
    " \n",
    "  Initialize the model\n",
    "   "
   ]
  },
  {
   "cell_type": "code",
   "execution_count": null,
   "id": "63befd21",
   "metadata": {},
   "outputs": [],
   "source": [
    "from tensorflow.keras.applications.resnet50 import ResNet50,decode_predictions,preprocess_input"
   ]
  },
  {
   "cell_type": "code",
   "execution_count": null,
   "id": "96ee30f5",
   "metadata": {
    "scrolled": true
   },
   "outputs": [],
   "source": [
    "model = ResNet50()"
   ]
  },
  {
   "cell_type": "code",
   "execution_count": null,
   "id": "2c4b21ec",
   "metadata": {},
   "outputs": [],
   "source": [
    "model.summary()"
   ]
  },
  {
   "cell_type": "code",
   "execution_count": null,
   "id": "3f40d854",
   "metadata": {},
   "outputs": [],
   "source": [
    "from glob import glob\n",
    "\n",
    "def batch_prediction(base_path):\n",
    "    image_paths = glob(base_path + '/*.jpg')\n",
    "    num_images = min(len(image_paths), 6) # ensure that at most 6 subplots are created\n",
    "    for i in range(num_images):\n",
    "        img_path = image_paths[i]\n",
    "        # read and preprocess\n",
    "        pic = keras.preprocessing.image.load_img(img_path, target_size=(224, 224))\n",
    "        numpy_image = np.array(pic)\n",
    "        image_batch = np.expand_dims(numpy_image, axis=0)\n",
    "        processed_image = preprocess_input(image_batch)\n",
    "        \n",
    "        # predict\n",
    "        predictions = model.predict(processed_image)\n",
    "        label = decode_predictions(predictions)\n",
    "        \n",
    "        # plot\n",
    "       \n"
   ]
  },
  {
   "cell_type": "code",
   "execution_count": null,
   "id": "d99d9c65",
   "metadata": {},
   "outputs": [],
   "source": []
  },
  {
   "cell_type": "code",
   "execution_count": null,
   "id": "d7208cdb",
   "metadata": {},
   "outputs": [],
   "source": [
    "import matplotlib.pyplot as plt\n",
    "from keras.applications.imagenet_utils import decode_predictions\n",
    "\n",
    "def batch_prediction(base_path, model):\n",
    "    \n",
    "    image_paths = glob(base_path + '/*.png')\n",
    "\n",
    "    num_images = max(min(len(image_paths), 6), 1) # ensure that at least one subplot is created\n",
    "\n",
    "    fig, axs = plt.subplots(1, num_images, figsize=(15, 5))\n",
    "\n",
    "    for i in range(num_images):\n",
    "\n",
    "        img_path = image_paths[i]\n",
    "\n",
    "        print(img_path)\n",
    "\n",
    "        # read and preprocess\n",
    "\n",
    "        pic = keras.preprocessing.image.load_img(img_path, target_size=(224, 224))\n",
    "\n",
    "        numpy_image = np.array(pic)\n",
    "\n",
    "        image_batch = np.expand_dims(numpy_image, axis=0)\n",
    "\n",
    "        processed_image = preprocess_input(image_batch)\n",
    "\n",
    "        \n",
    "\n",
    "        # predict\n",
    "\n",
    "        predictions = model.predict(processed_image)\n",
    "\n",
    "        label = decode_predictions(predictions)\n",
    "\n",
    "        label = label[0][0] # get the top prediction\n",
    "\n",
    "        \n",
    "\n",
    "        # plot\n",
    "\n",
    "        axs[i].imshow(pic)\n",
    "\n",
    "        axs[i].axis('off')\n",
    "\n",
    "        axs[i].set_title(label[1] + ': ' + str(round(label[2]*100, 2)) + '%')\n",
    "\n",
    "        \n",
    "\n",
    "        plt.show()\n",
    "\n",
    "        num_images = max(min(len(image_paths), 6), 1)\n",
    "\n",
    "        print(f\"Number of images to display: {num_images}\")\n",
    "\n",
    "        fig, axs = plt.subplots(1, num_images, figsize=(15, 5))"
   ]
  },
  {
   "cell_type": "code",
   "execution_count": null,
   "id": "9d29cbd9",
   "metadata": {
    "scrolled": true
   },
   "outputs": [],
   "source": [
    "\n",
    "batch_prediction(base_path, model)\n"
   ]
  },
  {
   "cell_type": "code",
   "execution_count": 3,
   "id": "0a65629f",
   "metadata": {},
   "outputs": [],
   "source": [
    "from keras.applications.mobilenet import MobileNet, decode_predictions, preprocess_input\n"
   ]
  },
  {
   "cell_type": "code",
   "execution_count": null,
   "id": "ed86cad6",
   "metadata": {},
   "outputs": [],
   "source": [
    "from keras.applications.mobilenet import MobileNet, decode_predictions, preprocess_input\n",
    "\n",
    "# resize images to 224x224\n",
    "X_resized = tf.image.resize(X, (224, 224))\n",
    "mdl = MobileNet()  # download (on `ImageNet` pretrained) model \n",
    "# predict on resized images\n",
    "pred = mdl.predict(X_resized)\n",
    "from PIL import Image\n",
    "import numpy as np\n",
    "\n",
    "# Load the image\n",
    "\n",
    "# Resize the image to 224x224\n",
    "image = image.resize((224, 224))\n",
    "\n",
    "# Convert the image to a numpy array\n",
    "image_array = np.array(image)\n",
    "\n",
    "# Normalize the image array\n",
    "image_array = image_array.astype('float32') / 255.\n",
    "\n",
    "# Subtract the mean RGB values of ImageNet dataset from the image array\n",
    "mean = np.array([0.485, 0.456, 0.406])\n",
    "std = np.array([0.229, 0.224, 0.225])\n",
    "image_array = (image_array - mean) / std\n",
    "\n",
    "# Add a batch dimension to the image array\n",
    "image_array = np.expand_dims(image_array, axis=0)\n",
    "\n",
    "print(pred.shape)\n",
    "\n"
   ]
  },
  {
   "cell_type": "code",
   "execution_count": null,
   "id": "3ddbb810",
   "metadata": {},
   "outputs": [],
   "source": [
    "pred = mdl.predict(X)\n",
    "pred.shape"
   ]
  },
  {
   "cell_type": "code",
   "execution_count": null,
   "id": "a4e29f1d",
   "metadata": {},
   "outputs": [],
   "source": [
    "decode_predictions(pred) # make these preds \"human-readable\""
   ]
  },
  {
   "cell_type": "markdown",
   "id": "59cff4c3",
   "metadata": {},
   "source": [
    "#### Check what is really in the image"
   ]
  },
  {
   "cell_type": "code",
   "execution_count": null,
   "id": "f9bbccf9",
   "metadata": {},
   "outputs": [],
   "source": [
    "plt.imshow(img);"
   ]
  },
  {
   "cell_type": "code",
   "execution_count": null,
   "id": "d09f34a5",
   "metadata": {},
   "outputs": [],
   "source": [
    "model.summary()"
   ]
  },
  {
   "cell_type": "code",
   "execution_count": null,
   "id": "11e6d707",
   "metadata": {},
   "outputs": [],
   "source": [
    "tk.preprocessing.i"
   ]
  },
  {
   "cell_type": "code",
   "execution_count": 4,
   "id": "3a793438",
   "metadata": {},
   "outputs": [],
   "source": [
    "# define the preprocessing function that should be applied to all images\n",
    "data_gen = tk.preprocessing.image.ImageDataGenerator(   # loads data in batches from disk\n",
    "    preprocessing_function=preprocess_input,\n",
    "    # fill_mode='nearest',\n",
    "    rotation_range=20,                               # rotate image by a random degree between -20 and 20\n",
    "    # width_shift_range=0.2,                         # shift image horizontally \n",
    "    # height_shift_range=0.2,                        # shift image vertically \n",
    "    # horizontal_flip=True,                          # randomly flip image horizontally\n",
    "    zoom_range=0.5,                                  # apply zoom transformation using zoom factor between 0.5 and 1.5\n",
    "    # shear_range=0.2                                # shear rotates pics, but makes them be in trapezoids (as opposed to squares)\n",
    "    validation_split=0.2\n",
    ")"
   ]
  },
  {
   "cell_type": "code",
   "execution_count": 5,
   "id": "dc443703",
   "metadata": {},
   "outputs": [],
   "source": [
    "classes = ['Blue_mug', 'mobile', 'Red_mug', 'Rose', 'empty', 'apple', 'biketool_mm', 'bodycream_test_ss', 'bodycream_train_ss', 'Bottle_gk',\n",
    "          'bottle_mw_test', 'bottle_mw_train', 'bottle_rbk','bottle_test_ss', 'bottle_train_ss', 'chris_bottle', 'chris_empty', 'crista_bottle',\n",
    "          'empty_crista', 'helge_scarf', 'helge_empty', 'plant_rbk', 'moritz_bottle','lighter_mm','him_teacup', 'helge_mouse',\n",
    "          'headphone_rbk','empty_train_ss', 'Naz_bottle']\n",
    "\n",
    "base_path = '.\\\\data\\\\'"
   ]
  },
  {
   "cell_type": "code",
   "execution_count": 6,
   "id": "4f09b3db",
   "metadata": {},
   "outputs": [
    {
     "name": "stdout",
     "output_type": "stream",
     "text": [
      "Found 3275 images belonging to 29 classes.\n"
     ]
    }
   ],
   "source": [
    "# a generator that returns batches of X and y arrays\n",
    "train_data_gen = data_gen.flow_from_directory(      # points to dir where data lives\n",
    "        directory=base_path,\n",
    "        class_mode=\"categorical\",\n",
    "        classes=classes,\n",
    "        batch_size=64,\n",
    "        target_size=(224, 224),\n",
    "    subset='training'\n",
    ")"
   ]
  },
  {
   "cell_type": "code",
   "execution_count": 7,
   "id": "24dcfb98",
   "metadata": {},
   "outputs": [
    {
     "name": "stdout",
     "output_type": "stream",
     "text": [
      "Found 811 images belonging to 29 classes.\n"
     ]
    }
   ],
   "source": [
    "val_data_gen = data_gen.flow_from_directory(\n",
    "        directory=base_path,\n",
    "        class_mode=\"categorical\",\n",
    "        classes=classes,\n",
    "        batch_size=64,\n",
    "        target_size=(224, 224),\n",
    "    subset='validation'\n",
    ")"
   ]
  },
  {
   "cell_type": "code",
   "execution_count": null,
   "id": "d994957a",
   "metadata": {},
   "outputs": [],
   "source": [
    "classes"
   ]
  },
  {
   "cell_type": "code",
   "execution_count": null,
   "id": "68eb5a6d",
   "metadata": {
    "scrolled": true
   },
   "outputs": [],
   "source": [
    "train_data_gen.class_indices"
   ]
  },
  {
   "cell_type": "markdown",
   "id": "2cc733bb",
   "metadata": {},
   "source": [
    "## Create CNN Model as Base Model"
   ]
  },
  {
   "cell_type": "markdown",
   "id": "edec59a5",
   "metadata": {},
   "source": [
    "### 1. Select the convolutional base "
   ]
  },
  {
   "cell_type": "markdown",
   "id": "b666d409",
   "metadata": {},
   "source": [
    "#### Using MobileNet pretrained network for transfer learning"
   ]
  },
  {
   "cell_type": "code",
   "execution_count": 8,
   "id": "5f0e0eba",
   "metadata": {},
   "outputs": [],
   "source": [
    "K.clear_session()\n",
    "base_model = MobileNet(\n",
    "    weights='imagenet',\n",
    "    include_top=False,                          # keep convolutional layers only\n",
    "    input_shape=(224, 224, 3)\n",
    ")"
   ]
  },
  {
   "cell_type": "code",
   "execution_count": 9,
   "id": "432fe79e",
   "metadata": {},
   "outputs": [
    {
     "name": "stdout",
     "output_type": "stream",
     "text": [
      "Model: \"mobilenet_1.00_224\"\n",
      "_________________________________________________________________\n",
      " Layer (type)                Output Shape              Param #   \n",
      "=================================================================\n",
      " input_1 (InputLayer)        [(None, 224, 224, 3)]     0         \n",
      "                                                                 \n",
      " conv1 (Conv2D)              (None, 112, 112, 32)      864       \n",
      "                                                                 \n",
      " conv1_bn (BatchNormalizatio  (None, 112, 112, 32)     128       \n",
      " n)                                                              \n",
      "                                                                 \n",
      " conv1_relu (ReLU)           (None, 112, 112, 32)      0         \n",
      "                                                                 \n",
      " conv_dw_1 (DepthwiseConv2D)  (None, 112, 112, 32)     288       \n",
      "                                                                 \n",
      " conv_dw_1_bn (BatchNormaliz  (None, 112, 112, 32)     128       \n",
      " ation)                                                          \n",
      "                                                                 \n",
      " conv_dw_1_relu (ReLU)       (None, 112, 112, 32)      0         \n",
      "                                                                 \n",
      " conv_pw_1 (Conv2D)          (None, 112, 112, 64)      2048      \n",
      "                                                                 \n",
      " conv_pw_1_bn (BatchNormaliz  (None, 112, 112, 64)     256       \n",
      " ation)                                                          \n",
      "                                                                 \n",
      " conv_pw_1_relu (ReLU)       (None, 112, 112, 64)      0         \n",
      "                                                                 \n",
      " conv_pad_2 (ZeroPadding2D)  (None, 113, 113, 64)      0         \n",
      "                                                                 \n",
      " conv_dw_2 (DepthwiseConv2D)  (None, 56, 56, 64)       576       \n",
      "                                                                 \n",
      " conv_dw_2_bn (BatchNormaliz  (None, 56, 56, 64)       256       \n",
      " ation)                                                          \n",
      "                                                                 \n",
      " conv_dw_2_relu (ReLU)       (None, 56, 56, 64)        0         \n",
      "                                                                 \n",
      " conv_pw_2 (Conv2D)          (None, 56, 56, 128)       8192      \n",
      "                                                                 \n",
      " conv_pw_2_bn (BatchNormaliz  (None, 56, 56, 128)      512       \n",
      " ation)                                                          \n",
      "                                                                 \n",
      " conv_pw_2_relu (ReLU)       (None, 56, 56, 128)       0         \n",
      "                                                                 \n",
      " conv_dw_3 (DepthwiseConv2D)  (None, 56, 56, 128)      1152      \n",
      "                                                                 \n",
      " conv_dw_3_bn (BatchNormaliz  (None, 56, 56, 128)      512       \n",
      " ation)                                                          \n",
      "                                                                 \n",
      " conv_dw_3_relu (ReLU)       (None, 56, 56, 128)       0         \n",
      "                                                                 \n",
      " conv_pw_3 (Conv2D)          (None, 56, 56, 128)       16384     \n",
      "                                                                 \n",
      " conv_pw_3_bn (BatchNormaliz  (None, 56, 56, 128)      512       \n",
      " ation)                                                          \n",
      "                                                                 \n",
      " conv_pw_3_relu (ReLU)       (None, 56, 56, 128)       0         \n",
      "                                                                 \n",
      " conv_pad_4 (ZeroPadding2D)  (None, 57, 57, 128)       0         \n",
      "                                                                 \n",
      " conv_dw_4 (DepthwiseConv2D)  (None, 28, 28, 128)      1152      \n",
      "                                                                 \n",
      " conv_dw_4_bn (BatchNormaliz  (None, 28, 28, 128)      512       \n",
      " ation)                                                          \n",
      "                                                                 \n",
      " conv_dw_4_relu (ReLU)       (None, 28, 28, 128)       0         \n",
      "                                                                 \n",
      " conv_pw_4 (Conv2D)          (None, 28, 28, 256)       32768     \n",
      "                                                                 \n",
      " conv_pw_4_bn (BatchNormaliz  (None, 28, 28, 256)      1024      \n",
      " ation)                                                          \n",
      "                                                                 \n",
      " conv_pw_4_relu (ReLU)       (None, 28, 28, 256)       0         \n",
      "                                                                 \n",
      " conv_dw_5 (DepthwiseConv2D)  (None, 28, 28, 256)      2304      \n",
      "                                                                 \n",
      " conv_dw_5_bn (BatchNormaliz  (None, 28, 28, 256)      1024      \n",
      " ation)                                                          \n",
      "                                                                 \n",
      " conv_dw_5_relu (ReLU)       (None, 28, 28, 256)       0         \n",
      "                                                                 \n",
      " conv_pw_5 (Conv2D)          (None, 28, 28, 256)       65536     \n",
      "                                                                 \n",
      " conv_pw_5_bn (BatchNormaliz  (None, 28, 28, 256)      1024      \n",
      " ation)                                                          \n",
      "                                                                 \n",
      " conv_pw_5_relu (ReLU)       (None, 28, 28, 256)       0         \n",
      "                                                                 \n",
      " conv_pad_6 (ZeroPadding2D)  (None, 29, 29, 256)       0         \n",
      "                                                                 \n",
      " conv_dw_6 (DepthwiseConv2D)  (None, 14, 14, 256)      2304      \n",
      "                                                                 \n",
      " conv_dw_6_bn (BatchNormaliz  (None, 14, 14, 256)      1024      \n",
      " ation)                                                          \n",
      "                                                                 \n",
      " conv_dw_6_relu (ReLU)       (None, 14, 14, 256)       0         \n",
      "                                                                 \n",
      " conv_pw_6 (Conv2D)          (None, 14, 14, 512)       131072    \n",
      "                                                                 \n",
      " conv_pw_6_bn (BatchNormaliz  (None, 14, 14, 512)      2048      \n",
      " ation)                                                          \n",
      "                                                                 \n",
      " conv_pw_6_relu (ReLU)       (None, 14, 14, 512)       0         \n",
      "                                                                 \n",
      " conv_dw_7 (DepthwiseConv2D)  (None, 14, 14, 512)      4608      \n",
      "                                                                 \n",
      " conv_dw_7_bn (BatchNormaliz  (None, 14, 14, 512)      2048      \n",
      " ation)                                                          \n",
      "                                                                 \n",
      " conv_dw_7_relu (ReLU)       (None, 14, 14, 512)       0         \n",
      "                                                                 \n",
      " conv_pw_7 (Conv2D)          (None, 14, 14, 512)       262144    \n",
      "                                                                 \n",
      " conv_pw_7_bn (BatchNormaliz  (None, 14, 14, 512)      2048      \n",
      " ation)                                                          \n",
      "                                                                 \n",
      " conv_pw_7_relu (ReLU)       (None, 14, 14, 512)       0         \n",
      "                                                                 \n",
      " conv_dw_8 (DepthwiseConv2D)  (None, 14, 14, 512)      4608      \n",
      "                                                                 \n",
      " conv_dw_8_bn (BatchNormaliz  (None, 14, 14, 512)      2048      \n",
      " ation)                                                          \n",
      "                                                                 \n",
      " conv_dw_8_relu (ReLU)       (None, 14, 14, 512)       0         \n",
      "                                                                 \n",
      " conv_pw_8 (Conv2D)          (None, 14, 14, 512)       262144    \n"
     ]
    },
    {
     "name": "stdout",
     "output_type": "stream",
     "text": [
      "                                                                 \n",
      " conv_pw_8_bn (BatchNormaliz  (None, 14, 14, 512)      2048      \n",
      " ation)                                                          \n",
      "                                                                 \n",
      " conv_pw_8_relu (ReLU)       (None, 14, 14, 512)       0         \n",
      "                                                                 \n",
      " conv_dw_9 (DepthwiseConv2D)  (None, 14, 14, 512)      4608      \n",
      "                                                                 \n",
      " conv_dw_9_bn (BatchNormaliz  (None, 14, 14, 512)      2048      \n",
      " ation)                                                          \n",
      "                                                                 \n",
      " conv_dw_9_relu (ReLU)       (None, 14, 14, 512)       0         \n",
      "                                                                 \n",
      " conv_pw_9 (Conv2D)          (None, 14, 14, 512)       262144    \n",
      "                                                                 \n",
      " conv_pw_9_bn (BatchNormaliz  (None, 14, 14, 512)      2048      \n",
      " ation)                                                          \n",
      "                                                                 \n",
      " conv_pw_9_relu (ReLU)       (None, 14, 14, 512)       0         \n",
      "                                                                 \n",
      " conv_dw_10 (DepthwiseConv2D  (None, 14, 14, 512)      4608      \n",
      " )                                                               \n",
      "                                                                 \n",
      " conv_dw_10_bn (BatchNormali  (None, 14, 14, 512)      2048      \n",
      " zation)                                                         \n",
      "                                                                 \n",
      " conv_dw_10_relu (ReLU)      (None, 14, 14, 512)       0         \n",
      "                                                                 \n",
      " conv_pw_10 (Conv2D)         (None, 14, 14, 512)       262144    \n",
      "                                                                 \n",
      " conv_pw_10_bn (BatchNormali  (None, 14, 14, 512)      2048      \n",
      " zation)                                                         \n",
      "                                                                 \n",
      " conv_pw_10_relu (ReLU)      (None, 14, 14, 512)       0         \n",
      "                                                                 \n",
      " conv_dw_11 (DepthwiseConv2D  (None, 14, 14, 512)      4608      \n",
      " )                                                               \n",
      "                                                                 \n",
      " conv_dw_11_bn (BatchNormali  (None, 14, 14, 512)      2048      \n",
      " zation)                                                         \n",
      "                                                                 \n",
      " conv_dw_11_relu (ReLU)      (None, 14, 14, 512)       0         \n",
      "                                                                 \n",
      " conv_pw_11 (Conv2D)         (None, 14, 14, 512)       262144    \n",
      "                                                                 \n",
      " conv_pw_11_bn (BatchNormali  (None, 14, 14, 512)      2048      \n",
      " zation)                                                         \n",
      "                                                                 \n",
      " conv_pw_11_relu (ReLU)      (None, 14, 14, 512)       0         \n",
      "                                                                 \n",
      " conv_pad_12 (ZeroPadding2D)  (None, 15, 15, 512)      0         \n",
      "                                                                 \n",
      " conv_dw_12 (DepthwiseConv2D  (None, 7, 7, 512)        4608      \n",
      " )                                                               \n",
      "                                                                 \n",
      " conv_dw_12_bn (BatchNormali  (None, 7, 7, 512)        2048      \n",
      " zation)                                                         \n",
      "                                                                 \n",
      " conv_dw_12_relu (ReLU)      (None, 7, 7, 512)         0         \n",
      "                                                                 \n",
      " conv_pw_12 (Conv2D)         (None, 7, 7, 1024)        524288    \n",
      "                                                                 \n",
      " conv_pw_12_bn (BatchNormali  (None, 7, 7, 1024)       4096      \n",
      " zation)                                                         \n",
      "                                                                 \n",
      " conv_pw_12_relu (ReLU)      (None, 7, 7, 1024)        0         \n",
      "                                                                 \n",
      " conv_dw_13 (DepthwiseConv2D  (None, 7, 7, 1024)       9216      \n",
      " )                                                               \n",
      "                                                                 \n",
      " conv_dw_13_bn (BatchNormali  (None, 7, 7, 1024)       4096      \n",
      " zation)                                                         \n",
      "                                                                 \n",
      " conv_dw_13_relu (ReLU)      (None, 7, 7, 1024)        0         \n",
      "                                                                 \n",
      " conv_pw_13 (Conv2D)         (None, 7, 7, 1024)        1048576   \n",
      "                                                                 \n",
      " conv_pw_13_bn (BatchNormali  (None, 7, 7, 1024)       4096      \n",
      " zation)                                                         \n",
      "                                                                 \n",
      " conv_pw_13_relu (ReLU)      (None, 7, 7, 1024)        0         \n",
      "                                                                 \n",
      "=================================================================\n",
      "Total params: 3,228,864\n",
      "Trainable params: 3,206,976\n",
      "Non-trainable params: 21,888\n",
      "_________________________________________________________________\n"
     ]
    }
   ],
   "source": [
    "base_model.summary()                            # as expected...see above"
   ]
  },
  {
   "cell_type": "markdown",
   "id": "75d5a0fc",
   "metadata": {},
   "source": [
    "#### Freeze the weights"
   ]
  },
  {
   "cell_type": "code",
   "execution_count": 10,
   "id": "c1e54ba2",
   "metadata": {},
   "outputs": [],
   "source": [
    "base_model.trainable = False  # we don't want to train the base model, since this would destroy filters"
   ]
  },
  {
   "cell_type": "markdown",
   "id": "52626df9",
   "metadata": {},
   "source": [
    "#### Build your \"individualized\" architecture for \"top-layers\"\n",
    "###### Add your own dense layers on top"
   ]
  },
  {
   "cell_type": "code",
   "execution_count": 11,
   "id": "b21d7af8",
   "metadata": {},
   "outputs": [
    {
     "data": {
      "text/plain": [
       "29"
      ]
     },
     "execution_count": 11,
     "metadata": {},
     "output_type": "execute_result"
    }
   ],
   "source": [
    "len(classes)"
   ]
  },
  {
   "cell_type": "code",
   "execution_count": 12,
   "id": "8669620d",
   "metadata": {},
   "outputs": [],
   "source": [
    "model = tk.models.Sequential()\n",
    "model.add(base_model)\n",
    "model.add(Flatten())  \n",
    "model.add(Dense(100, activation='relu'))\n",
    "model.add(Dropout(0.3))\n",
    "model.add(Dense(len(classes), activation='softmax')) # TODO; Final layer with a length of 2, and softmax activation"
   ]
  },
  {
   "cell_type": "code",
   "execution_count": 13,
   "id": "73405040",
   "metadata": {},
   "outputs": [
    {
     "name": "stdout",
     "output_type": "stream",
     "text": [
      "Model: \"sequential\"\n",
      "_________________________________________________________________\n",
      " Layer (type)                Output Shape              Param #   \n",
      "=================================================================\n",
      " mobilenet_1.00_224 (Functio  (None, 7, 7, 1024)       3228864   \n",
      " nal)                                                            \n",
      "                                                                 \n",
      " flatten (Flatten)           (None, 50176)             0         \n",
      "                                                                 \n",
      " dense (Dense)               (None, 100)               5017700   \n",
      "                                                                 \n",
      " dropout (Dropout)           (None, 100)               0         \n",
      "                                                                 \n",
      " dense_1 (Dense)             (None, 29)                2929      \n",
      "                                                                 \n",
      "=================================================================\n",
      "Total params: 8,249,493\n",
      "Trainable params: 5,020,629\n",
      "Non-trainable params: 3,228,864\n",
      "_________________________________________________________________\n"
     ]
    }
   ],
   "source": [
    "model.summary()                 # Note \"non-trainable\" params..."
   ]
  },
  {
   "cell_type": "markdown",
   "id": "5f28e524",
   "metadata": {},
   "source": [
    "### 4. Compile and train!"
   ]
  },
  {
   "cell_type": "code",
   "execution_count": 14,
   "id": "cda17622",
   "metadata": {},
   "outputs": [],
   "source": [
    "model.compile(optimizer=tk.optimizers.Adam(learning_rate=0.001),\n",
    "              loss=tk.losses.categorical_crossentropy, #TODO: why not binary x-entropy?\n",
    "              metrics=[tk.metrics.categorical_accuracy])\n",
    "\n",
    "# observe the validation loss and stop when it does not improve after 3 iterations\n",
    "callback = tk.callbacks.EarlyStopping(\n",
    "    monitor='val_loss',\n",
    "    min_delta=0.05,     # the minimum expected change in the metric used in order to be seen as an improvement\n",
    "    patience=3,         # number of epochs with no improvement needed for the model to stop\n",
    "    restore_best_weights=True,\n",
    "    mode='min'\n",
    "    )"
   ]
  },
  {
   "cell_type": "code",
   "execution_count": 15,
   "id": "8017431b",
   "metadata": {},
   "outputs": [
    {
     "name": "stdout",
     "output_type": "stream",
     "text": [
      "Epoch 1/20\n",
      "52/52 - 157s - loss: 2.6479 - categorical_accuracy: 0.4769 - val_loss: 0.7217 - val_categorical_accuracy: 0.7928 - 157s/epoch - 3s/step\n",
      "Epoch 2/20\n",
      "52/52 - 131s - loss: 0.8767 - categorical_accuracy: 0.7316 - val_loss: 0.4299 - val_categorical_accuracy: 0.8878 - 131s/epoch - 3s/step\n",
      "Epoch 3/20\n",
      "52/52 - 135s - loss: 0.5972 - categorical_accuracy: 0.8180 - val_loss: 0.2748 - val_categorical_accuracy: 0.9346 - 135s/epoch - 3s/step\n",
      "Epoch 4/20\n",
      "52/52 - 129s - loss: 0.4658 - categorical_accuracy: 0.8501 - val_loss: 0.3129 - val_categorical_accuracy: 0.9174 - 129s/epoch - 2s/step\n",
      "Epoch 5/20\n",
      "52/52 - 127s - loss: 0.3839 - categorical_accuracy: 0.8763 - val_loss: 0.2261 - val_categorical_accuracy: 0.9297 - 127s/epoch - 2s/step\n",
      "Epoch 6/20\n",
      "52/52 - 153s - loss: 0.3413 - categorical_accuracy: 0.8950 - val_loss: 0.1456 - val_categorical_accuracy: 0.9568 - 153s/epoch - 3s/step\n",
      "Epoch 7/20\n",
      "52/52 - 177s - loss: 0.2869 - categorical_accuracy: 0.9075 - val_loss: 0.1794 - val_categorical_accuracy: 0.9457 - 177s/epoch - 3s/step\n",
      "Epoch 8/20\n",
      "52/52 - 186s - loss: 0.2972 - categorical_accuracy: 0.9044 - val_loss: 0.2034 - val_categorical_accuracy: 0.9531 - 186s/epoch - 4s/step\n",
      "Epoch 9/20\n",
      "52/52 - 190s - loss: 0.2949 - categorical_accuracy: 0.9115 - val_loss: 0.1884 - val_categorical_accuracy: 0.9494 - 190s/epoch - 4s/step\n"
     ]
    }
   ],
   "source": [
    "history = model.fit(train_data_gen,\n",
    "          verbose=2, \n",
    "          callbacks=[callback],\n",
    "          epochs=20,\n",
    "          validation_data=val_data_gen\n",
    "          )"
   ]
  },
  {
   "cell_type": "code",
   "execution_count": 16,
   "id": "0617c6b2",
   "metadata": {},
   "outputs": [
    {
     "data": {
      "image/png": "[encoded data removed]",
      "text/plain": [
       "<Figure size 640x480 with 1 Axes>"
      ]
     },
     "metadata": {},
     "output_type": "display_data"
    }
   ],
   "source": [
    "plt.plot(history.history['loss'], label = 'Training Loss')\n",
    "plt.plot(history.history['val_loss'], label = 'Validation Loss')\n",
    "plt.xlabel('Epochs')\n",
    "plt.ylabel('Loss')\n",
    "plt.legend();"
   ]
  },
  {
   "cell_type": "code",
   "execution_count": null,
   "id": "d2fb28ff",
   "metadata": {},
   "outputs": [],
   "source": []
  },
  {
   "cell_type": "code",
   "execution_count": null,
   "id": "0d4fce63",
   "metadata": {},
   "outputs": [],
   "source": []
  }
 ],
 "metadata": {
  "kernelspec": {
   "display_name": "Python 3 (ipykernel)",
   "language": "python",
   "name": "python3"
  },
  "language_info": {
   "codemirror_mode": {
    "name": "ipython",
    "version": 3
   },
   "file_extension": ".py",
   "mimetype": "text/x-python",
   "name": "python",
   "nbconvert_exporter": "python",
   "pygments_lexer": "ipython3",
   "version": "3.9.16"
  }
 },
 "nbformat": 4,
 "nbformat_minor": 5
}
